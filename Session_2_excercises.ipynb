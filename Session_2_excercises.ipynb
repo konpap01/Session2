{
 "cells": [
  {
   "cell_type": "code",
   "execution_count": 8,
   "id": "cd81844d-09ba-4cf4-82c4-0fae125b8fad",
   "metadata": {},
   "outputs": [
    {
     "name": "stdout",
     "output_type": "stream",
     "text": [
      "1\n",
      "2\n",
      "Fizz\n",
      "4\n",
      "Buzz\n",
      "Fizz\n",
      "7\n",
      "8\n",
      "Fizz\n",
      "Buzz\n",
      "11\n",
      "Fizz\n",
      "13\n",
      "14\n",
      "FizzBuzz\n",
      "16\n",
      "17\n",
      "Fizz\n",
      "19\n",
      "Buzz\n"
     ]
    }
   ],
   "source": [
    "\"\"\"\n",
    "Exercise 1: FizzBuzz\n",
    "1. Write a FizzBuzz Function: Create a function fizzbuzz(n) that takes an integer n as a parameter.\n",
    "2. Implement FizzBuzz Logic: The function should print:\n",
    "○ \"Fizz\" for multiples of 3\n",
    "○ \"Buzz\" for multiples of 5\n",
    "○ \"FizzBuzz\" for multiples of both 3 and 5\n",
    "○ The number itself for other numbers\n",
    "3. Call the Function: Call the function for numbers 1 to 20.\n",
    "\n",
    "\"\"\"\n",
    "def fizzbuzz(n):\n",
    "    for i in range(1, n+1):\n",
    "        if i % 3 == 0 and i % 5 == 0:\n",
    "            print(\"FizzBuzz\")\n",
    "        elif i % 3 == 0:\n",
    "            print(\"Fizz\")\n",
    "        elif i % 5 == 0:\n",
    "            print(\"Buzz\")\n",
    "        else:\n",
    "            print(i)\n",
    "\n",
    "# Call the function for numbers 1 to 20\n",
    "fizzbuzz(20)\n"
   ]
  },
  {
   "cell_type": "code",
   "execution_count": 10,
   "id": "c8da5cc7-b49f-474f-a770-a781a1ab0195",
   "metadata": {},
   "outputs": [
    {
     "name": "stdout",
     "output_type": "stream",
     "text": [
      "[16, 98, 23, 32, 86, 8999]\n"
     ]
    }
   ],
   "source": [
    "\"\"\"\n",
    "Exercise 2: Basic Data Filtering\n",
    "1. Create a List of Mixed Data Types: Create a list that contains a mix of integers, strings, and floats.\n",
    "2. Filter the List: Use list comprehension to create a new list that contains only the integers from the original list.\n",
    "3. Print the New List: Output the filtered list of integers\n",
    "\n",
    "\"\"\"\n",
    "\n",
    "#Create a list with mixed data types\n",
    "mixed_list = [16, 'kostas', 98, 23, 'data_sceince', 32, 86, 'python', 8999]\n",
    "\n",
    "#Filter the list to contain only integers using list comprehension\n",
    "filtered_list = [item for item in mixed_list if isinstance(item, int)]\n",
    "\n",
    "#Print the new list of integers\n",
    "print(filtered_list)\n"
   ]
  },
  {
   "cell_type": "code",
   "execution_count": 12,
   "id": "0f2b0575-8270-4dcb-a2e8-342f0ad2a3a7",
   "metadata": {},
   "outputs": [
    {
     "name": "stdout",
     "output_type": "stream",
     "text": [
      "The to-do list is empty.\n"
     ]
    }
   ],
   "source": [
    "\"\"\"\n",
    "Exercise 3: Simple To-Do List\n",
    "1. Create an Empty List: Start with an empty list called todo_list.\n",
    "2. Define Functions:\n",
    "○ A function add_task(task) that adds a task to the list.\n",
    "○ A function show_tasks() that prints all tasks in the list.\n",
    "\"\"\"\n",
    "\n",
    "#Create an empty list\n",
    "todo_list = []\n",
    "\n",
    "#Define functions\n",
    "\n",
    "#Function to add a task to the list\n",
    "def add_task(task):\n",
    "    todo_list.append(task)\n",
    "    print(f\"Task '{task}' added to the list.\")\n",
    "\n",
    "#Function to show all tasks in the list\n",
    "def show_tasks():\n",
    "    if not todo_list:\n",
    "        print(\"The to-do list is empty.\")\n",
    "    else:\n",
    "        print(\"To-Do List:\")\n",
    "        for idx, task in enumerate(todo_list, 1):\n",
    "            print(f\"{idx}. {task}\")\n",
    "\n",
    "show_tasks()\n"
   ]
  },
  {
   "cell_type": "code",
   "execution_count": 14,
   "id": "8e9a3e4f-f1d9-4ab6-81c4-fbdb7fd2968b",
   "metadata": {},
   "outputs": [
    {
     "name": "stdout",
     "output_type": "stream",
     "text": [
      "22ºC is equivalent to 71.6ºF\n",
      "46ºC is equivalent to 114.8ºF\n",
      "51ºC is equivalent to 123.8ºF\n",
      "76ºC is equivalent to 168.8ºF\n"
     ]
    }
   ],
   "source": [
    "\"\"\"\n",
    "Exercise 4: Temperature Converter\n",
    "1. Define a Conversion Function: Write a function celsius_to_fahrenheit(celsius) that converts Celsius to Fahrenheit.\n",
    "2. Print the Result: Output the converted temperature for 22ºF, 46ºF, 51ºF and 76ºF\n",
    "\n",
    "\"\"\"\n",
    "\n",
    "def celsius_to_fahrenheit(celsius):\n",
    "    return (celsius * 9/5) + 32\n",
    "\n",
    "# Convert and print the results for the given Celsius values\n",
    "celsius_values = [22, 46, 51, 76]\n",
    "for celsius in celsius_values:\n",
    "    fahrenheit = celsius_to_fahrenheit(celsius)\n",
    "    print(f\"{celsius}ºC is equivalent to {fahrenheit}ºF\")\n"
   ]
  },
  {
   "cell_type": "code",
   "execution_count": null,
   "id": "9ca938fa-8bba-4c89-abe4-4de801d3da5a",
   "metadata": {},
   "outputs": [],
   "source": []
  }
 ],
 "metadata": {
  "kernelspec": {
   "display_name": "Python 3 (ipykernel)",
   "language": "python",
   "name": "python3"
  },
  "language_info": {
   "codemirror_mode": {
    "name": "ipython",
    "version": 3
   },
   "file_extension": ".py",
   "mimetype": "text/x-python",
   "name": "python",
   "nbconvert_exporter": "python",
   "pygments_lexer": "ipython3",
   "version": "3.12.2"
  }
 },
 "nbformat": 4,
 "nbformat_minor": 5
}
